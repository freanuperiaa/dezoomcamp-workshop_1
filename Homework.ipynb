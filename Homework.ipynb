{
 "cells": [
  {
   "cell_type": "markdown",
   "id": "419955fe-4986-47cc-be7e-f8eed0f7c319",
   "metadata": {},
   "source": [
    "# Workshop 1 - Homework \n",
    "\n",
    "##### Freanu Peria"
   ]
  },
  {
   "cell_type": "markdown",
   "id": "6d42a2d3-235c-4bbb-a54e-a385a2b4c59a",
   "metadata": {},
   "source": [
    "### 1. Use a generator\n"
   ]
  },
  {
   "cell_type": "code",
   "execution_count": 1,
   "id": "2769c08a-646e-43d5-ac8a-f19e1e7dde9f",
   "metadata": {},
   "outputs": [
    {
     "name": "stdout",
     "output_type": "stream",
     "text": [
      "1.0\n",
      "1.4142135623730951\n",
      "1.7320508075688772\n",
      "2.0\n",
      "2.23606797749979\n"
     ]
    }
   ],
   "source": [
    "def square_root_generator(limit):\n",
    "    n = 1\n",
    "    while n <= limit:\n",
    "        yield n ** 0.5\n",
    "        n += 1\n",
    "\n",
    "# Example usage:\n",
    "limit = 5\n",
    "generator = square_root_generator(limit)\n",
    "\n",
    "for sqrt_value in generator:\n",
    "    print(sqrt_value)"
   ]
  },
  {
   "cell_type": "code",
   "execution_count": 2,
   "id": "d0d4628a-e826-46e6-93ff-c1db50954e61",
   "metadata": {},
   "outputs": [
    {
     "name": "stdout",
     "output_type": "stream",
     "text": [
      "8.382332347441762\n"
     ]
    }
   ],
   "source": [
    "# Question 1: What is the sum of the outputs of the generator for limit = 5?\n",
    "# Answer: 8.38233\n",
    "\n",
    "def square_root_generator(limit):\n",
    "    n = 1\n",
    "    while n <= limit:\n",
    "        yield n ** 0.5\n",
    "        n += 1\n",
    "\n",
    "# Example usage:\n",
    "limit = 5\n",
    "generator = square_root_generator(limit)\n",
    "\n",
    "# we'll accumulate the values of the generator here:\n",
    "acc = 0\n",
    "\n",
    "for sqrt_value in generator:\n",
    "    acc += sqrt_value\n",
    "\n",
    "print(acc)"
   ]
  },
  {
   "cell_type": "code",
   "execution_count": 3,
   "id": "687eddd9-0424-47e7-a6d6-38835460a6da",
   "metadata": {},
   "outputs": [
    {
     "name": "stdout",
     "output_type": "stream",
     "text": [
      "1.0\n",
      "1.4142135623730951\n",
      "1.7320508075688772\n",
      "2.0\n",
      "2.23606797749979\n",
      "2.449489742783178\n",
      "2.6457513110645907\n",
      "2.8284271247461903\n",
      "3.0\n",
      "3.1622776601683795\n",
      "3.3166247903554\n",
      "3.4641016151377544\n",
      "3.605551275463989\n"
     ]
    }
   ],
   "source": [
    "# Question 2. What is the 13th number yielded by the generator? (1 point)\n",
    "# Answer: 3.605\n",
    "\n",
    "def square_root_generator(limit):\n",
    "    n = 1\n",
    "    while n <= limit:\n",
    "        yield n ** 0.5\n",
    "        n += 1\n",
    "\n",
    "# Example usage:\n",
    "limit = 13\n",
    "generator = square_root_generator(limit)\n",
    "\n",
    "for sqrt_value in generator:\n",
    "    print(sqrt_value)"
   ]
  },
  {
   "cell_type": "markdown",
   "id": "92b3ac70-bf0b-45e9-a547-c01e943b2370",
   "metadata": {},
   "source": [
    "### 2. Append a generator to a table with existing data"
   ]
  },
  {
   "cell_type": "code",
   "execution_count": 4,
   "id": "7d836b2e-0539-4ddd-84b1-cb7b1f081ab0",
   "metadata": {},
   "outputs": [],
   "source": [
    "# Generators\n",
    "\n",
    "def people_1():\n",
    "    for i in range(1, 6):\n",
    "        yield {\"ID\": i, \"Name\": f\"Person_{i}\", \"Age\": 25 + i, \"City\": \"City_A\"}\n",
    "\n",
    "\n",
    "def people_2():\n",
    "    for i in range(3, 9):\n",
    "        yield {\"ID\": i, \"Name\": f\"Person_{i}\", \"Age\": 30 + i, \"City\": \"City_B\", \"Occupation\": f\"Job_{i}\"}\n"
   ]
  },
  {
   "cell_type": "code",
   "execution_count": 5,
   "id": "55527cff-a6d6-4658-8412-db656d21602e",
   "metadata": {},
   "outputs": [
    {
     "name": "stdout",
     "output_type": "stream",
     "text": [
      "Pipeline dlt_ipykernel_launcher load step completed in 0.31 seconds\n",
      "1 load package(s) were loaded to destination duckdb and into dataset people\n",
      "The duckdb destination used duckdb:////mnt/c/code/de-zoomcamp/workshop_1/dlt_ipykernel_launcher.duckdb location to store data\n",
      "Load package 1708609591.5567641 is LOADED and contains no failed jobs\n"
     ]
    }
   ],
   "source": [
    "# !!!!! Load the first generator and calculate the sum of ages of all people. Make sure to only load it once. !!!!!\n",
    "import dlt\n",
    "\n",
    "\n",
    "# Let's put the first generator into a pipeline\n",
    "people_pipeline = dlt.pipeline(destination=\"duckdb\", dataset_name='people')\n",
    "\n",
    "# then load data of generator into duckdb using dlt\n",
    "info = people_pipeline.run(\n",
    "    people_1(),\n",
    "    table_name=\"people\"\n",
    ")\n",
    "\n",
    "print(info)"
   ]
  },
  {
   "cell_type": "code",
   "execution_count": 8,
   "id": "debbd544-8d4e-478a-8833-db54109865c5",
   "metadata": {},
   "outputs": [
    {
     "name": "stdout",
     "output_type": "stream",
     "text": [
      "Loaded Tables:\n"
     ]
    },
    {
     "data": {
      "text/plain": [
       "┌─────────────────────┐\n",
       "│        name         │\n",
       "│       varchar       │\n",
       "├─────────────────────┤\n",
       "│ _dlt_loads          │\n",
       "│ _dlt_pipeline_state │\n",
       "│ _dlt_version        │\n",
       "│ people              │\n",
       "└─────────────────────┘"
      ]
     },
     "metadata": {},
     "output_type": "display_data"
    },
    {
     "name": "stdout",
     "output_type": "stream",
     "text": [
      "people Table:\n"
     ]
    },
    {
     "data": {
      "text/plain": [
       "┌───────┬──────────┬───────┬─────────┬────────────────────┬────────────────┐\n",
       "│  id   │   name   │  age  │  city   │    _dlt_load_id    │    _dlt_id     │\n",
       "│ int64 │ varchar  │ int64 │ varchar │      varchar       │    varchar     │\n",
       "├───────┼──────────┼───────┼─────────┼────────────────────┼────────────────┤\n",
       "│     1 │ Person_1 │    26 │ City_A  │ 1708609591.5567641 │ omgVX4yCTJDxcA │\n",
       "│     2 │ Person_2 │    27 │ City_A  │ 1708609591.5567641 │ YCPNgSxbeC3vDQ │\n",
       "│     3 │ Person_3 │    28 │ City_A  │ 1708609591.5567641 │ wneR29NKlZaa6Q │\n",
       "│     4 │ Person_4 │    29 │ City_A  │ 1708609591.5567641 │ aWtL9b0QYlqZqw │\n",
       "│     5 │ Person_5 │    30 │ City_A  │ 1708609591.5567641 │ qp/gc+yeuu7ucg │\n",
       "└───────┴──────────┴───────┴─────────┴────────────────────┴────────────────┘"
      ]
     },
     "metadata": {},
     "output_type": "display_data"
    },
    {
     "name": "stdout",
     "output_type": "stream",
     "text": [
      "sum of ages:\n"
     ]
    },
    {
     "data": {
      "text/plain": [
       "┌──────────┐\n",
       "│ sum(age) │\n",
       "│  int128  │\n",
       "├──────────┤\n",
       "│      140 │\n",
       "└──────────┘"
      ]
     },
     "metadata": {},
     "output_type": "display_data"
    }
   ],
   "source": [
    "# now that we have loaded it, lets check the data and calculate the sum of the ages of all people\n",
    "import duckdb\n",
    "\n",
    "\n",
    "# create connection object\n",
    "conn = duckdb.connect(f\"{people_pipeline.pipeline_name}.duckdb\")\n",
    "\n",
    "# set search path\n",
    "conn.sql(f\"SET search_path = '{people_pipeline.dataset_name}'\")\n",
    "print('Loaded Tables:')\n",
    "display(conn.sql(\"SHOW TABLES\"))\n",
    "\n",
    "print(\"people Table:\")\n",
    "display(conn.sql(\"SELECT * FROM people\"))\n",
    "\n",
    "print(\"sum of ages:\")\n",
    "display(conn.sql(\"\"\"\n",
    "    SELECT SUM(age) FROM people\n",
    "\"\"\"))"
   ]
  },
  {
   "cell_type": "code",
   "execution_count": 10,
   "id": "e25d5145-f25a-4a07-9719-d3f7ab23f88b",
   "metadata": {},
   "outputs": [
    {
     "name": "stdout",
     "output_type": "stream",
     "text": [
      "Pipeline dlt_ipykernel_launcher load step completed in 0.16 seconds\n",
      "1 load package(s) were loaded to destination duckdb and into dataset people\n",
      "The duckdb destination used duckdb:////mnt/c/code/de-zoomcamp/workshop_1/dlt_ipykernel_launcher.duckdb location to store data\n",
      "Load package 1708609955.1565146 is LOADED and contains no failed jobs\n"
     ]
    }
   ],
   "source": [
    "# !!!!! Append the second generator to the first !!!!!\n",
    "\n",
    "info_two = people_pipeline.run(\n",
    "    people_2(),\n",
    "    write_disposition=\"append\",\n",
    "    table_name=\"people\"\n",
    ")\n",
    "\n",
    "print(info_two)"
   ]
  },
  {
   "cell_type": "code",
   "execution_count": 11,
   "id": "baecc3ca-d447-4225-986c-e4b97c153727",
   "metadata": {},
   "outputs": [
    {
     "name": "stdout",
     "output_type": "stream",
     "text": [
      "people Table:\n"
     ]
    },
    {
     "data": {
      "text/plain": [
       "┌───────┬──────────┬───────┬─────────┬────────────────────┬────────────────┬────────────┐\n",
       "│  id   │   name   │  age  │  city   │    _dlt_load_id    │    _dlt_id     │ occupation │\n",
       "│ int64 │ varchar  │ int64 │ varchar │      varchar       │    varchar     │  varchar   │\n",
       "├───────┼──────────┼───────┼─────────┼────────────────────┼────────────────┼────────────┤\n",
       "│     1 │ Person_1 │    26 │ City_A  │ 1708609591.5567641 │ omgVX4yCTJDxcA │ NULL       │\n",
       "│     2 │ Person_2 │    27 │ City_A  │ 1708609591.5567641 │ YCPNgSxbeC3vDQ │ NULL       │\n",
       "│     3 │ Person_3 │    28 │ City_A  │ 1708609591.5567641 │ wneR29NKlZaa6Q │ NULL       │\n",
       "│     4 │ Person_4 │    29 │ City_A  │ 1708609591.5567641 │ aWtL9b0QYlqZqw │ NULL       │\n",
       "│     5 │ Person_5 │    30 │ City_A  │ 1708609591.5567641 │ qp/gc+yeuu7ucg │ NULL       │\n",
       "│     3 │ Person_3 │    33 │ City_B  │ 1708609955.1565146 │ 8W1ZbsLlt6cAaw │ Job_3      │\n",
       "│     4 │ Person_4 │    34 │ City_B  │ 1708609955.1565146 │ T/hCTeieNUA5zg │ Job_4      │\n",
       "│     5 │ Person_5 │    35 │ City_B  │ 1708609955.1565146 │ DQklUAIgmi7Vfg │ Job_5      │\n",
       "│     6 │ Person_6 │    36 │ City_B  │ 1708609955.1565146 │ gyTnm4KTxx0scw │ Job_6      │\n",
       "│     7 │ Person_7 │    37 │ City_B  │ 1708609955.1565146 │ 5qy7udUahlfogA │ Job_7      │\n",
       "│     8 │ Person_8 │    38 │ City_B  │ 1708609955.1565146 │ 3kTHIpdBpLe/hg │ Job_8      │\n",
       "├───────┴──────────┴───────┴─────────┴────────────────────┴────────────────┴────────────┤\n",
       "│ 11 rows                                                                     7 columns │\n",
       "└───────────────────────────────────────────────────────────────────────────────────────┘"
      ]
     },
     "metadata": {},
     "output_type": "display_data"
    },
    {
     "name": "stdout",
     "output_type": "stream",
     "text": [
      "sum of ages:\n"
     ]
    },
    {
     "data": {
      "text/plain": [
       "┌──────────┐\n",
       "│ sum(age) │\n",
       "│  int128  │\n",
       "├──────────┤\n",
       "│      353 │\n",
       "└──────────┘"
      ]
     },
     "metadata": {},
     "output_type": "display_data"
    }
   ],
   "source": [
    "# Question 3. Append the 2 generators. After correctly appending the data, calculate the sum of all ages of people\n",
    "# Answer: 353 \n",
    "\n",
    "# Let's check the table again\n",
    "print(\"people Table:\")\n",
    "display(conn.sql(\"SELECT * FROM people\"))\n",
    "\n",
    "print(\"sum of ages:\")\n",
    "display(conn.sql(\"\"\"\n",
    "    SELECT SUM(age) FROM people\n",
    "\"\"\"))"
   ]
  },
  {
   "cell_type": "markdown",
   "id": "867f780a-4dcb-4490-aceb-61e5babface1",
   "metadata": {},
   "source": [
    "###  3. Merge a generator"
   ]
  },
  {
   "cell_type": "code",
   "execution_count": 19,
   "id": "8f1d74c5-fee4-4fa1-990d-2830b399217f",
   "metadata": {},
   "outputs": [],
   "source": [
    "#   load your data to a new table with primary key ID.\n",
    "\n",
    "another_people_pipeline = dlt.pipeline(\n",
    "    pipeline_name=\"another_people_pipeline\",\n",
    "    destination=\"duckdb\",\n",
    "    dataset_name=\"people\"\n",
    ")\n",
    "\n",
    "info_two = another_people_pipeline.run(\n",
    "    people_1(),\n",
    "    table_name=\"second_people\",\n",
    "    primary_key=\"id\"\n",
    ")"
   ]
  },
  {
   "cell_type": "code",
   "execution_count": 20,
   "id": "aef5c98b-592f-4235-bcc8-844cdc93e362",
   "metadata": {},
   "outputs": [
    {
     "name": "stdout",
     "output_type": "stream",
     "text": [
      "Loaded Tables:\n"
     ]
    },
    {
     "data": {
      "text/plain": [
       "┌─────────────────────┐\n",
       "│        name         │\n",
       "│       varchar       │\n",
       "├─────────────────────┤\n",
       "│ _dlt_loads          │\n",
       "│ _dlt_pipeline_state │\n",
       "│ _dlt_version        │\n",
       "│ second_people       │\n",
       "└─────────────────────┘"
      ]
     },
     "metadata": {},
     "output_type": "display_data"
    },
    {
     "name": "stdout",
     "output_type": "stream",
     "text": [
      "people Table:\n"
     ]
    },
    {
     "data": {
      "text/plain": [
       "┌───────┬──────────┬───────┬─────────┬────────────────────┬────────────────┬────────────┐\n",
       "│  id   │   name   │  age  │  city   │    _dlt_load_id    │    _dlt_id     │ occupation │\n",
       "│ int64 │ varchar  │ int64 │ varchar │      varchar       │    varchar     │  varchar   │\n",
       "├───────┼──────────┼───────┼─────────┼────────────────────┼────────────────┼────────────┤\n",
       "│     1 │ Person_1 │    26 │ City_A  │ 1708610535.3408089 │ 7AVCkNA8jepWsg │ NULL       │\n",
       "│     2 │ Person_2 │    27 │ City_A  │ 1708610535.3408089 │ ui2TcpntPu0b8g │ NULL       │\n",
       "│     3 │ Person_3 │    28 │ City_A  │ 1708610535.3408089 │ 10UHTU22PQJVpg │ NULL       │\n",
       "│     4 │ Person_4 │    29 │ City_A  │ 1708610535.3408089 │ ghFUt3M7wIGY2g │ NULL       │\n",
       "│     5 │ Person_5 │    30 │ City_A  │ 1708610535.3408089 │ iJNPIfv6EA08XQ │ NULL       │\n",
       "└───────┴──────────┴───────┴─────────┴────────────────────┴────────────────┴────────────┘"
      ]
     },
     "metadata": {},
     "output_type": "display_data"
    },
    {
     "name": "stdout",
     "output_type": "stream",
     "text": [
      "sum of ages:\n"
     ]
    },
    {
     "data": {
      "text/plain": [
       "┌──────────┐\n",
       "│ sum(age) │\n",
       "│  int128  │\n",
       "├──────────┤\n",
       "│      140 │\n",
       "└──────────┘"
      ]
     },
     "metadata": {},
     "output_type": "display_data"
    }
   ],
   "source": [
    "# Let's see what's inside the table 'second_people'\n",
    "\n",
    "# create connection object\n",
    "conn = duckdb.connect(f\"{another_people_pipeline.pipeline_name}.duckdb\")\n",
    "\n",
    "# set search path\n",
    "conn.sql(f\"SET search_path = '{another_people_pipeline.dataset_name}'\")\n",
    "print('Loaded Tables:')\n",
    "display(conn.sql(\"SHOW TABLES\"))\n",
    "\n",
    "print(\"people Table:\")\n",
    "display(conn.sql(\"SELECT * FROM second_people\"))\n",
    "\n",
    "print(\"sum of ages:\")\n",
    "display(conn.sql(\"\"\"\n",
    "    SELECT SUM(age) FROM \n",
    "\"\"\"))"
   ]
  },
  {
   "cell_type": "code",
   "execution_count": null,
   "id": "9cafcefd-d736-4a05-9b0f-7a7be1d713f2",
   "metadata": {},
   "outputs": [],
   "source": [
    "# running this because I accidentally appended to second_people table.\n",
    "# display(conn.sql(\"\"\"\n",
    "#     SELECT SUM(age) FROM \n",
    "# \"\"\"))"
   ]
  },
  {
   "cell_type": "code",
   "execution_count": 21,
   "id": "ab177abb-f8cb-45a0-b924-f687d25cb94f",
   "metadata": {},
   "outputs": [
    {
     "name": "stdout",
     "output_type": "stream",
     "text": [
      "Pipeline another_people_pipeline load step completed in 0.30 seconds\n",
      "1 load package(s) were loaded to destination duckdb and into dataset people\n",
      "The duckdb destination used duckdb:////mnt/c/code/de-zoomcamp/workshop_1/another_people_pipeline.duckdb location to store data\n",
      "Load package 1708610590.486828 is LOADED and contains no failed jobs\n"
     ]
    }
   ],
   "source": [
    "# Load the second generator with merge\n",
    "info_four = another_people_pipeline.run(\n",
    "    people_2(),\n",
    "    table_name=\"second_people\",\n",
    "    primary_key=\"id\",\n",
    "    write_disposition=\"merge\"\n",
    ")\n",
    "\n",
    "print(info_four)"
   ]
  },
  {
   "cell_type": "code",
   "execution_count": 23,
   "id": "48c3e5cd-3b3b-4703-a887-9aa204aac8c3",
   "metadata": {},
   "outputs": [
    {
     "name": "stdout",
     "output_type": "stream",
     "text": [
      "people Table:\n"
     ]
    },
    {
     "data": {
      "text/plain": [
       "┌───────┬──────────┬───────┬─────────┬────────────────────┬────────────────┬────────────┐\n",
       "│  id   │   name   │  age  │  city   │    _dlt_load_id    │    _dlt_id     │ occupation │\n",
       "│ int64 │ varchar  │ int64 │ varchar │      varchar       │    varchar     │  varchar   │\n",
       "├───────┼──────────┼───────┼─────────┼────────────────────┼────────────────┼────────────┤\n",
       "│     1 │ Person_1 │    26 │ City_A  │ 1708610535.3408089 │ 7AVCkNA8jepWsg │ NULL       │\n",
       "│     2 │ Person_2 │    27 │ City_A  │ 1708610535.3408089 │ ui2TcpntPu0b8g │ NULL       │\n",
       "│     5 │ Person_5 │    35 │ City_B  │ 1708610590.486828  │ FEiT13/zNZgL/w │ Job_5      │\n",
       "│     7 │ Person_7 │    37 │ City_B  │ 1708610590.486828  │ eaHhjfuoSKb42g │ Job_7      │\n",
       "│     4 │ Person_4 │    34 │ City_B  │ 1708610590.486828  │ 24+OJNYH5omZEg │ Job_4      │\n",
       "│     8 │ Person_8 │    38 │ City_B  │ 1708610590.486828  │ 3sCj6gx+4m0xJA │ Job_8      │\n",
       "│     3 │ Person_3 │    33 │ City_B  │ 1708610590.486828  │ L3/uPo3J1JU1kw │ Job_3      │\n",
       "│     6 │ Person_6 │    36 │ City_B  │ 1708610590.486828  │ +/nJacQpmxCvqg │ Job_6      │\n",
       "└───────┴──────────┴───────┴─────────┴────────────────────┴────────────────┴────────────┘"
      ]
     },
     "metadata": {},
     "output_type": "display_data"
    },
    {
     "name": "stdout",
     "output_type": "stream",
     "text": [
      "sum of ages:\n"
     ]
    },
    {
     "data": {
      "text/plain": [
       "┌──────────┐\n",
       "│ sum(age) │\n",
       "│  int128  │\n",
       "├──────────┤\n",
       "│      266 │\n",
       "└──────────┘"
      ]
     },
     "metadata": {},
     "output_type": "display_data"
    }
   ],
   "source": [
    "# Question 4. Merge the 2 generators using the ID column. Calculate the sum of ages of all the people loaded as described above.\n",
    "# Answer: 266\n",
    "\n",
    "print(\"people Table:\")\n",
    "display(conn.sql(\"SELECT * FROM second_people\"))\n",
    "\n",
    "print(\"sum of ages:\")\n",
    "display(conn.sql(\"\"\"\n",
    "    SELECT SUM(age) FROM second_people\n",
    "\"\"\"))"
   ]
  },
  {
   "cell_type": "code",
   "execution_count": null,
   "id": "b5dcffa5-1282-4a38-bfa2-41e7f28ff165",
   "metadata": {},
   "outputs": [],
   "source": []
  },
  {
   "cell_type": "code",
   "execution_count": null,
   "id": "f122eef9-bc16-4fdb-be05-f1f335d5a382",
   "metadata": {},
   "outputs": [],
   "source": []
  },
  {
   "cell_type": "code",
   "execution_count": null,
   "id": "f21410f9-f9e0-4997-a4ab-ec4ff4d78fb7",
   "metadata": {},
   "outputs": [],
   "source": []
  }
 ],
 "metadata": {
  "kernelspec": {
   "display_name": "Python 3 (ipykernel)",
   "language": "python",
   "name": "python3"
  },
  "language_info": {
   "codemirror_mode": {
    "name": "ipython",
    "version": 3
   },
   "file_extension": ".py",
   "mimetype": "text/x-python",
   "name": "python",
   "nbconvert_exporter": "python",
   "pygments_lexer": "ipython3",
   "version": "3.10.12"
  }
 },
 "nbformat": 4,
 "nbformat_minor": 5
}
